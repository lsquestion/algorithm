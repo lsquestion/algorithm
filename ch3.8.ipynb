{
 "cells": [
  {
   "cell_type": "code",
   "execution_count": 3,
   "metadata": {},
   "outputs": [
    {
     "data": {
      "text/plain": [
       "'101010'"
      ]
     },
     "execution_count": 3,
     "metadata": {},
     "output_type": "execute_result"
    }
   ],
   "source": [
    "from pythonds.basic.stack import Stack\n",
    "def divideBy2(decNumber):\n",
    "    remstack=Stack()\n",
    "    while decNumber>0:\n",
    "        rem=decNumber%2\n",
    "        remstack.push(rem)\n",
    "        decNumber=decNumber//2\n",
    "    \n",
    "    binString=\"\"\n",
    "    while not remstack.isEmpty():\n",
    "        binString+=str(remstack.pop())\n",
    "        \n",
    "    return binString\n",
    "\n",
    "divideBy2(42)"
   ]
  },
  {
   "cell_type": "code",
   "execution_count": 6,
   "metadata": {},
   "outputs": [
    {
     "data": {
      "text/plain": [
       "'2A'"
      ]
     },
     "execution_count": 6,
     "metadata": {},
     "output_type": "execute_result"
    }
   ],
   "source": [
    "from pythonds.basic.stack import Stack\n",
    "\n",
    "def divideBybase(decNumber,base):\n",
    "    digts='0123456789ABCDEF'\n",
    "    remstack=Stack()\n",
    "    while decNumber>0:\n",
    "        rem=decNumber%base\n",
    "        remstack.push(rem)\n",
    "        decNumber=decNumber//base\n",
    "        \n",
    "    binString=''\n",
    "    while not remstack.isEmpty():\n",
    "        binString+=digts[remstack.pop()]\n",
    "    \n",
    "    return binString\n",
    "\n",
    "divideBybase(42,16)"
   ]
  },
  {
   "cell_type": "code",
   "execution_count": null,
   "metadata": {},
   "outputs": [],
   "source": []
  },
  {
   "cell_type": "code",
   "execution_count": null,
   "metadata": {},
   "outputs": [],
   "source": []
  },
  {
   "cell_type": "code",
   "execution_count": null,
   "metadata": {},
   "outputs": [],
   "source": []
  },
  {
   "cell_type": "code",
   "execution_count": null,
   "metadata": {},
   "outputs": [],
   "source": []
  },
  {
   "cell_type": "code",
   "execution_count": null,
   "metadata": {},
   "outputs": [],
   "source": []
  }
 ],
 "metadata": {
  "kernelspec": {
   "display_name": "Python 3",
   "language": "python",
   "name": "python3"
  },
  "language_info": {
   "codemirror_mode": {
    "name": "ipython",
    "version": 3
   },
   "file_extension": ".py",
   "mimetype": "text/x-python",
   "name": "python",
   "nbconvert_exporter": "python",
   "pygments_lexer": "ipython3",
   "version": "3.6.4"
  }
 },
 "nbformat": 4,
 "nbformat_minor": 2
}
