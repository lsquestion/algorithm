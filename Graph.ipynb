{
 "cells": [
  {
   "cell_type": "code",
   "execution_count": null,
   "metadata": {},
   "outputs": [],
   "source": [
    "class Vertex:\n",
    "    def __init__(self,key):\n",
    "        self.id=key\n",
    "        self.connectedTo={}\n",
    "        \n",
    "    def addNeighbor(self,nbr,weight=0):\n",
    "        self.connectedTo[nbr]=weight\n",
    "        \n",
    "    def __str__(self):\n",
    "        return str(self.id)+'connectedTo'+str([x.id for x in self.connectedTo])\n",
    "    \n",
    "    def getConnection(self):\n",
    "        return slef.connectedTo.keys()\n",
    "    \n",
    "    def getId(self):\n",
    "        return self.id\n",
    "    \n",
    "    def getWeight(self,nbr):\n",
    "        return self.connectedTo[nbr]\n",
    "    \n",
    "    \n",
    "class Graph:\n",
    "    def __init__(self):\n",
    "        self.vertList={}\n",
    "        self.numVertices=0\n",
    "        \n",
    "    def addVertex(self,key):\n",
    "        self.numVertices=self.numVertices+1\n",
    "        newVertex=Vertex(key)\n",
    "        self.vertList[key]=newVertex\n",
    "        return newVertex\n",
    "    \n",
    "    def getVertex(Self,n):\n",
    "        if n in self.vertList:\n",
    "            return self.vertList[n]\n",
    "        else:\n",
    "            return None\n",
    "        \n",
    "    def __contains__(self,n):\n",
    "        return n i self.vertList\n",
    "    \n",
    "    def addEdge(self,f,t,cost=0):\n",
    "        if f not in self.vertList:\n",
    "            nv=self.addVertex(f)\n",
    "        if t not in self.vertList:\n",
    "            nv=self.addVertex(t)\n",
    "            \n",
    "        self.vertList[f].addNeighbor(self.vertList[t],cost)\n",
    "        \n",
    "    def __iter__(self):\n",
    "        return iter(self.vertList.values())\n",
    "    \n",
    "    "
   ]
  }
 ],
 "metadata": {
  "kernelspec": {
   "display_name": "Python 3",
   "language": "python",
   "name": "python3"
  },
  "language_info": {
   "codemirror_mode": {
    "name": "ipython",
    "version": 3
   },
   "file_extension": ".py",
   "mimetype": "text/x-python",
   "name": "python",
   "nbconvert_exporter": "python",
   "pygments_lexer": "ipython3",
   "version": "3.6.4"
  }
 },
 "nbformat": 4,
 "nbformat_minor": 2
}
